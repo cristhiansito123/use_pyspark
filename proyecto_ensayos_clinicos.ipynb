{
  "cells": [
    {
      "cell_type": "markdown",
      "metadata": {
        "id": "view-in-github",
        "colab_type": "text"
      },
      "source": [
        "<a href=\"https://colab.research.google.com/github/cristhiansito123/use_pyspark/blob/main/proyecto_ensayos_clinicos.ipynb\" target=\"_parent\"><img src=\"https://colab.research.google.com/assets/colab-badge.svg\" alt=\"Open In Colab\"/></a>"
      ]
    },
    {
      "cell_type": "markdown",
      "source": [
        "# **Estudio de ensayos clínicos realizados en el 2021**"
      ],
      "metadata": {
        "application/vnd.databricks.v1+cell": {
          "title": "",
          "showTitle": false,
          "inputWidgets": {},
          "nuid": "e841586b-0480-4c2b-9b25-674740a01b5a"
        },
        "id": "KFchdVQJoHsn"
      }
    },
    {
      "cell_type": "markdown",
      "source": [
        "## ***Entendimiento del problema***\n",
        "### **Objetivos**\n",
        "\n",
        "\n",
        "*   Realizar consultas de una base de datos acerca de los ensayos clínicos realizados por las principales entidades de salud en el 2021.\n",
        "*   Comparar las principales estructuras de analizar datos que tiene spark, entre RDD y dataframes, para determinar las ventajas y desventajas que tiene cada tecnología al manejar grandes volúmenes de información."
      ],
      "metadata": {
        "application/vnd.databricks.v1+cell": {
          "title": "",
          "showTitle": false,
          "inputWidgets": {},
          "nuid": "abae97f3-74b2-4af1-a8af-839f7ea6b24a"
        },
        "id": "5GYxd5i1oHsp"
      }
    },
    {
      "cell_type": "code",
      "source": [
        "import matplotlib.pyplot as plt\n",
        "import numpy as np\n",
        "from pyspark.sql.functions import explode\n",
        "from pyspark.sql.functions import split ,col\n",
        "from pyspark.sql.functions import unix_timestamp ,col"
      ],
      "metadata": {
        "application/vnd.databricks.v1+cell": {
          "title": "",
          "showTitle": false,
          "inputWidgets": {},
          "nuid": "727476f6-b462-441f-b9c4-10b689e81d2f"
        },
        "id": "rLehWsJEoHsp"
      },
      "outputs": [],
      "execution_count": null
    },
    {
      "cell_type": "code",
      "source": [
        "filepath = '/FileStore/tables/clinicaltrial_2021.csv'\n",
        "clinicalDf =spark.read.options(delimiter='|', header ='true').csv(filepath)\n",
        "clinicalDf.show(5)"
      ],
      "metadata": {
        "application/vnd.databricks.v1+cell": {
          "title": "",
          "showTitle": false,
          "inputWidgets": {},
          "nuid": "041398ec-978b-4787-b61d-87af53fbf941"
        },
        "id": "6hFreE0moHsq",
        "outputId": "a1c443c7-e3a4-460b-bbc3-49700c52dbd6"
      },
      "outputs": [
        {
          "output_type": "display_data",
          "metadata": {
            "application/vnd.databricks.v1+output": {
              "datasetInfos": [],
              "data": "+-----------+--------------------+--------------------+--------+----------+--------------------+----------+--------------------+-------------+\n|         Id|             Sponsor|              Status|   Start|Completion|                Type|Submission|          Conditions|Interventions|\n+-----------+--------------------+--------------------+--------+----------+--------------------+----------+--------------------+-------------+\n|NCT02758028|The University of...|          Recruiting|Aug 2005|  Nov 2021|      Interventional|  Apr 2016|                null|         null|\n|NCT02751957|     Duke University|           Completed|Jul 2016|  Jul 2020|      Interventional|  Apr 2016|Autistic Disorder...|         null|\n|NCT02758483|Universidade Fede...|           Completed|Mar 2017|  Jan 2018|      Interventional|  Apr 2016|   Diabetes Mellitus|         null|\n|NCT02759848|Istanbul Medeniye...|           Completed|Jan 2012|  Dec 2014|       Observational|  May 2016|Tuberculosis,Lung...|         null|\n|NCT02758860|University of Rom...|Active, not recru...|Jun 2016|  Sep 2020|Observational [Pa...|  Apr 2016|Diverticular Dise...|         null|\n+-----------+--------------------+--------------------+--------+----------+--------------------+----------+--------------------+-------------+\nonly showing top 5 rows\n\n",
              "removedWidgets": [],
              "addedWidgets": {},
              "metadata": {},
              "type": "ansi",
              "arguments": {}
            }
          },
          "data": {
            "text/plain": [
              "+-----------+--------------------+--------------------+--------+----------+--------------------+----------+--------------------+-------------+\n|         Id|             Sponsor|              Status|   Start|Completion|                Type|Submission|          Conditions|Interventions|\n+-----------+--------------------+--------------------+--------+----------+--------------------+----------+--------------------+-------------+\n|NCT02758028|The University of...|          Recruiting|Aug 2005|  Nov 2021|      Interventional|  Apr 2016|                null|         null|\n|NCT02751957|     Duke University|           Completed|Jul 2016|  Jul 2020|      Interventional|  Apr 2016|Autistic Disorder...|         null|\n|NCT02758483|Universidade Fede...|           Completed|Mar 2017|  Jan 2018|      Interventional|  Apr 2016|   Diabetes Mellitus|         null|\n|NCT02759848|Istanbul Medeniye...|           Completed|Jan 2012|  Dec 2014|       Observational|  May 2016|Tuberculosis,Lung...|         null|\n|NCT02758860|University of Rom...|Active, not recru...|Jun 2016|  Sep 2020|Observational [Pa...|  Apr 2016|Diverticular Dise...|         null|\n+-----------+--------------------+--------------------+--------+----------+--------------------+----------+--------------------+-------------+\nonly showing top 5 rows\n\n"
            ]
          }
        }
      ],
      "execution_count": null
    },
    {
      "cell_type": "markdown",
      "source": [
        "Número de estudios"
      ],
      "metadata": {
        "application/vnd.databricks.v1+cell": {
          "title": "",
          "showTitle": false,
          "inputWidgets": {},
          "nuid": "d0e9befa-7a41-464c-91de-09f0d1d17471"
        },
        "id": "4Cz8LoC6oHsr"
      }
    },
    {
      "cell_type": "code",
      "source": [
        " filepath = '/FileStore/tables/clinicaltrial_2021.csv'\n",
        "clinicalrdd = sc.textFile(filepath)\\\n",
        ".filter(lambda x: not x.startswith('I'))\n",
        "clinicalrdd.count()"
      ],
      "metadata": {
        "application/vnd.databricks.v1+cell": {
          "title": "",
          "showTitle": true,
          "inputWidgets": {},
          "nuid": "11c502bb-2403-4849-a63f-130ba67d9402"
        },
        "id": "lnqhcQq-oHsr",
        "outputId": "dd295d84-bfc2-408f-dd46-216b86ac3dbb"
      },
      "outputs": [
        {
          "output_type": "display_data",
          "metadata": {
            "application/vnd.databricks.v1+output": {
              "datasetInfos": [],
              "data": "Out[75]: 387261",
              "removedWidgets": [],
              "addedWidgets": {},
              "metadata": {},
              "type": "ansi",
              "arguments": {}
            }
          },
          "data": {
            "text/plain": [
              "Out[75]: 387261"
            ]
          }
        }
      ],
      "execution_count": null
    },
    {
      "cell_type": "code",
      "source": [
        "clinicalDf.count()"
      ],
      "metadata": {
        "application/vnd.databricks.v1+cell": {
          "title": "",
          "showTitle": false,
          "inputWidgets": {},
          "nuid": "f7cbf259-97f2-4b83-9bb1-dd43ca59a0af"
        },
        "id": "1rbExEahoHss",
        "outputId": "a2a31fff-363e-4f5e-9048-50da2feffd3b"
      },
      "outputs": [
        {
          "output_type": "display_data",
          "metadata": {
            "application/vnd.databricks.v1+output": {
              "datasetInfos": [],
              "data": "Out[76]: 387261",
              "removedWidgets": [],
              "addedWidgets": {},
              "metadata": {},
              "type": "ansi",
              "arguments": {}
            }
          },
          "data": {
            "text/plain": [
              "Out[76]: 387261"
            ]
          }
        }
      ],
      "execution_count": null
    },
    {
      "cell_type": "markdown",
      "source": [
        "Tipo de estudios"
      ],
      "metadata": {
        "application/vnd.databricks.v1+cell": {
          "title": "",
          "showTitle": false,
          "inputWidgets": {},
          "nuid": "cba9202d-fce1-4f65-8891-878aa1df3792"
        },
        "id": "WE_QCqrioHss"
      }
    },
    {
      "cell_type": "code",
      "source": [
        "type_rdd = clinicalrdd.map(lambda x : x.split('|'))\\\n",
        ".map(lambda x:x[5]).map(lambda x: (x,1))\n",
        "Types_of_Studies = frequency(type_rdd,5)\n",
        "Types_of_Studies"
      ],
      "metadata": {
        "application/vnd.databricks.v1+cell": {
          "title": "",
          "showTitle": true,
          "inputWidgets": {},
          "nuid": "858a13e7-5e8f-4868-b4ac-d4dd723526fb"
        },
        "id": "KWVminLDoHss",
        "outputId": "7793cec2-b921-415c-b8e1-a4c340dcc117"
      },
      "outputs": [
        {
          "output_type": "display_data",
          "metadata": {
            "application/vnd.databricks.v1+output": {
              "datasetInfos": [],
              "data": "Out[77]: [('Interventional', 301472),\n ('Observational', 77540),\n ('Observational [Patient Registry]', 8180),\n ('Expanded Access', 69)]",
              "removedWidgets": [],
              "addedWidgets": {},
              "metadata": {},
              "type": "ansi",
              "arguments": {}
            }
          },
          "data": {
            "text/plain": [
              "Out[77]: [('Interventional', 301472),\n ('Observational', 77540),\n ('Observational [Patient Registry]', 8180),\n ('Expanded Access', 69)]"
            ]
          }
        }
      ],
      "execution_count": null
    },
    {
      "cell_type": "code",
      "source": [
        "typeDF = clinicalDf.groupBy('Type').count()\n",
        "typeDF.sort('count', ascending = False).display()"
      ],
      "metadata": {
        "application/vnd.databricks.v1+cell": {
          "title": "",
          "showTitle": false,
          "inputWidgets": {},
          "nuid": "3be4d9e5-34d3-45eb-8090-75e7c23ca0cb"
        },
        "id": "VCGPtYjGoHss",
        "outputId": "265e74b3-7ed5-47a8-ea57-2de275cc9518"
      },
      "outputs": [
        {
          "output_type": "display_data",
          "metadata": {
            "application/vnd.databricks.v1+output": {
              "overflow": false,
              "datasetInfos": [],
              "data": [
                [
                  "Interventional",
                  301472
                ],
                [
                  "Observational",
                  77540
                ],
                [
                  "Observational [Patient Registry]",
                  8180
                ],
                [
                  "Expanded Access",
                  69
                ]
              ],
              "plotOptions": {
                "displayType": "table",
                "customPlotOptions": {},
                "pivotColumns": null,
                "pivotAggregation": null,
                "xColumns": null,
                "yColumns": null
              },
              "columnCustomDisplayInfos": {},
              "aggType": "",
              "isJsonSchema": true,
              "removedWidgets": [],
              "aggSchema": [],
              "schema": [
                {
                  "name": "Type",
                  "type": "\"string\"",
                  "metadata": "{}"
                },
                {
                  "name": "count",
                  "type": "\"long\"",
                  "metadata": "{}"
                }
              ],
              "aggError": "",
              "aggData": [],
              "addedWidgets": {},
              "metadata": {},
              "dbfsResultPath": null,
              "type": "table",
              "aggOverflow": false,
              "aggSeriesLimitReached": false,
              "arguments": {}
            }
          },
          "data": {
            "text/html": [
              "<style scoped>\n  .table-result-container {\n    max-height: 300px;\n    overflow: auto;\n  }\n  table, th, td {\n    border: 1px solid black;\n    border-collapse: collapse;\n  }\n  th, td {\n    padding: 5px;\n  }\n  th {\n    text-align: left;\n  }\n</style><div class='table-result-container'><table class='table-result'><thead style='background-color: white'><tr><th>Type</th><th>count</th></tr></thead><tbody><tr><td>Interventional</td><td>301472</td></tr><tr><td>Observational</td><td>77540</td></tr><tr><td>Observational [Patient Registry]</td><td>8180</td></tr><tr><td>Expanded Access</td><td>69</td></tr></tbody></table></div>"
            ]
          }
        }
      ],
      "execution_count": null
    },
    {
      "cell_type": "code",
      "source": [
        "labels = list(map(lambda x: x[0] ,Types_of_Studies))\n",
        "sizes = list(map(lambda x: x[1] ,Types_of_Studies))\n",
        "fig1, ax1 = plt.subplots()\n",
        "\n",
        "wedges, texts, autotexts =ax1.pie(sizes, autopct='%1.1f%%', shadow=True, startangle=90)\n",
        "ax1.axis('equal') \n",
        "\n",
        "ax1.legend(wedges, labels,\n",
        "          title=\"Tipos de estudios\",\n",
        "          loc=\"center left\",\n",
        "          bbox_to_anchor=(1, 0, 0.5, 1))\n",
        "plt.show()\n",
        "\n",
        "Types_of_Studies"
      ],
      "metadata": {
        "application/vnd.databricks.v1+cell": {
          "title": "",
          "showTitle": false,
          "inputWidgets": {},
          "nuid": "8f8a5c00-7d0c-4cac-ab75-4b65361b3edd"
        },
        "id": "YH8hbbVHoHst",
        "outputId": "06ece886-0760-439e-de0d-6f41608b5a54"
      },
      "outputs": [
        {
          "output_type": "display_data",
          "metadata": {
            "application/vnd.databricks.v1+output": {
              "datasetInfos": [],
              "data": "data:image/png;base64,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\n",
              "removedWidgets": [],
              "addedWidgets": {},
              "metadata": {},
              "type": "image",
              "arguments": {}
            }
          },
          "data": {
            "image/png": "[encoded data removed]"
          }
        },
        {
          "output_type": "display_data",
          "metadata": {
            "application/vnd.databricks.v1+output": {
              "datasetInfos": [],
              "data": "Out[79]: [('Interventional', 301472),\n ('Observational', 77540),\n ('Observational [Patient Registry]', 8180),\n ('Expanded Access', 69)]",
              "removedWidgets": [],
              "addedWidgets": {},
              "metadata": {},
              "type": "ansi",
              "arguments": {}
            }
          },
          "data": {
            "text/plain": [
              "Out[79]: [('Interventional', 301472),\n ('Observational', 77540),\n ('Observational [Patient Registry]', 8180),\n ('Expanded Access', 69)]"
            ]
          }
        }
      ],
      "execution_count": null
    },
    {
      "cell_type": "markdown",
      "source": [
        "Top 5 de Condiciones médicas"
      ],
      "metadata": {
        "application/vnd.databricks.v1+cell": {
          "title": "",
          "showTitle": false,
          "inputWidgets": {},
          "nuid": "7ceed851-d4ae-4aff-b00e-e3dfab510376"
        },
        "id": "P-CakPT1oHst"
      }
    },
    {
      "cell_type": "code",
      "source": [
        "condition_rdd = clinicalrdd.map(lambda x : x.split('|'))\\\n",
        ".map(lambda x:x[7])\\\n",
        ".filter(lambda x: x != u'')\\\n",
        ".flatMap(lambda x : x.split(','))\\\n",
        ".map(lambda x: (x,1))\n",
        "Top_5_Conditions = frequency(condition_rdd,5)\n",
        "Top_5_Conditions"
      ],
      "metadata": {
        "application/vnd.databricks.v1+cell": {
          "title": "",
          "showTitle": true,
          "inputWidgets": {},
          "nuid": "023c5cf9-480c-4c3d-85cb-0eb37b0c29a1"
        },
        "id": "vYTEqNJToHst",
        "outputId": "3b858ce5-d5e2-4ce2-8e4b-dfdcf6177d56"
      },
      "outputs": [
        {
          "output_type": "display_data",
          "metadata": {
            "application/vnd.databricks.v1+output": {
              "datasetInfos": [],
              "data": "Out[80]: [('Carcinoma', 13389),\n ('Diabetes Mellitus', 11080),\n ('Neoplasms', 9371),\n ('Breast Neoplasms', 8640),\n ('Syndrome', 8032)]",
              "removedWidgets": [],
              "addedWidgets": {},
              "metadata": {},
              "type": "ansi",
              "arguments": {}
            }
          },
          "data": {
            "text/plain": [
              "Out[80]: [('Carcinoma', 13389),\n ('Diabetes Mellitus', 11080),\n ('Neoplasms', 9371),\n ('Breast Neoplasms', 8640),\n ('Syndrome', 8032)]"
            ]
          }
        }
      ],
      "execution_count": null
    },
    {
      "cell_type": "code",
      "source": [
        "explodeDf = clinicalDf.withColumn('Conditions',explode(split(clinicalDf['conditions'],',')))\n",
        "condDF = explodeDf.select('conditions')\n",
        "sorted_condDF = condDF.groupBy('Conditions').count()\n",
        "sorted_condDF.sort('count', ascending = False).na.drop().limit(5).display()"
      ],
      "metadata": {
        "application/vnd.databricks.v1+cell": {
          "title": "",
          "showTitle": false,
          "inputWidgets": {},
          "nuid": "fd1bc668-f3a8-431c-a939-038ad2db2784"
        },
        "id": "3-ISxOe7oHsu",
        "outputId": "2626b5c7-b890-47e1-b671-fc53d5146565"
      },
      "outputs": [
        {
          "output_type": "display_data",
          "metadata": {
            "application/vnd.databricks.v1+output": {
              "overflow": false,
              "datasetInfos": [],
              "data": [
                [
                  "Carcinoma",
                  13389
                ],
                [
                  "Diabetes Mellitus",
                  11080
                ],
                [
                  "Neoplasms",
                  9371
                ],
                [
                  "Breast Neoplasms",
                  8640
                ],
                [
                  "Syndrome",
                  8032
                ]
              ],
              "plotOptions": {
                "displayType": "table",
                "customPlotOptions": {},
                "pivotColumns": null,
                "pivotAggregation": null,
                "xColumns": null,
                "yColumns": null
              },
              "columnCustomDisplayInfos": {},
              "aggType": "",
              "isJsonSchema": true,
              "removedWidgets": [],
              "aggSchema": [],
              "schema": [
                {
                  "name": "Conditions",
                  "type": "\"string\"",
                  "metadata": "{}"
                },
                {
                  "name": "count",
                  "type": "\"long\"",
                  "metadata": "{}"
                }
              ],
              "aggError": "",
              "aggData": [],
              "addedWidgets": {},
              "metadata": {},
              "dbfsResultPath": null,
              "type": "table",
              "aggOverflow": false,
              "aggSeriesLimitReached": false,
              "arguments": {}
            }
          },
          "data": {
            "text/html": [
              "<style scoped>\n  .table-result-container {\n    max-height: 300px;\n    overflow: auto;\n  }\n  table, th, td {\n    border: 1px solid black;\n    border-collapse: collapse;\n  }\n  th, td {\n    padding: 5px;\n  }\n  th {\n    text-align: left;\n  }\n</style><div class='table-result-container'><table class='table-result'><thead style='background-color: white'><tr><th>Conditions</th><th>count</th></tr></thead><tbody><tr><td>Carcinoma</td><td>13389</td></tr><tr><td>Diabetes Mellitus</td><td>11080</td></tr><tr><td>Neoplasms</td><td>9371</td></tr><tr><td>Breast Neoplasms</td><td>8640</td></tr><tr><td>Syndrome</td><td>8032</td></tr></tbody></table></div>"
            ]
          }
        }
      ],
      "execution_count": null
    },
    {
      "cell_type": "code",
      "source": [
        "x,y = zip(*Top_5_Conditions)\n",
        "fig = plt.figure()\n",
        "ax = fig.add_axes([0,0,1,1])\n",
        "ax.set_title('Top 5 condiciones médicas')\n",
        "ax.bar(x,y)\n",
        "\n",
        "Top_5_Conditions"
      ],
      "metadata": {
        "application/vnd.databricks.v1+cell": {
          "title": "",
          "showTitle": false,
          "inputWidgets": {},
          "nuid": "d0d759f1-df95-4029-bba9-49be264e8306"
        },
        "id": "x5V2FV4poHsu",
        "outputId": "73b265c6-ff97-4bec-b2a9-13ca19e7df50"
      },
      "outputs": [
        {
          "output_type": "display_data",
          "metadata": {
            "application/vnd.databricks.v1+output": {
              "datasetInfos": [],
              "data": "Out[82]: [('Carcinoma', 13389),\n ('Diabetes Mellitus', 11080),\n ('Neoplasms', 9371),\n ('Breast Neoplasms', 8640),\n ('Syndrome', 8032)]",
              "removedWidgets": [],
              "addedWidgets": {},
              "metadata": {},
              "type": "ansi",
              "arguments": {}
            }
          },
          "data": {
            "text/plain": [
              "Out[82]: [('Carcinoma', 13389),\n ('Diabetes Mellitus', 11080),\n ('Neoplasms', 9371),\n ('Breast Neoplasms', 8640),\n ('Syndrome', 8032)]"
            ]
          }
        },
        {
          "output_type": "display_data",
          "metadata": {
            "application/vnd.databricks.v1+output": {
              "datasetInfos": [],
              "data": "data:image/png;base64,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\n",
              "removedWidgets": [],
              "addedWidgets": {},
              "metadata": {},
              "type": "image",
              "arguments": {}
            }
          },
          "data": {
            "image/png": "[encoded data removed]"
          }
        }
      ],
      "execution_count": null
    },
    {
      "cell_type": "markdown",
      "source": [
        "Top 5 de salas más frecuentes"
      ],
      "metadata": {
        "application/vnd.databricks.v1+cell": {
          "title": "",
          "showTitle": false,
          "inputWidgets": {},
          "nuid": "54359beb-e370-4dd9-b4b5-2c4ac30ac34f"
        },
        "id": "8bB3r96AoHsu"
      }
    },
    {
      "cell_type": "code",
      "source": [
        "meshDF = spark.read.options(delimiter=',', header ='true').csv('/FileStore/tables/mesh.csv')\n",
        "meshDF.show(5)"
      ],
      "metadata": {
        "application/vnd.databricks.v1+cell": {
          "title": "",
          "showTitle": false,
          "inputWidgets": {},
          "nuid": "aed90d07-ec7b-49e9-8f33-4c1c832382f5"
        },
        "id": "qTbjjlh0oHsu",
        "outputId": "54baa8cc-bbba-4be4-d403-155423fd277d"
      },
      "outputs": [
        {
          "output_type": "display_data",
          "metadata": {
            "application/vnd.databricks.v1+output": {
              "datasetInfos": [],
              "data": "+----------+-------------------+\n|      term|               tree|\n+----------+-------------------+\n|Calcimycin|D03.633.100.221.173|\n|   A-23187|D03.633.100.221.173|\n|   Temefos|D02.705.400.625.800|\n|   Temefos|D02.705.539.345.800|\n|   Temefos|D02.886.300.692.800|\n+----------+-------------------+\nonly showing top 5 rows\n\n",
              "removedWidgets": [],
              "addedWidgets": {},
              "metadata": {},
              "type": "ansi",
              "arguments": {}
            }
          },
          "data": {
            "text/plain": [
              "+----------+-------------------+\n|      term|               tree|\n+----------+-------------------+\n|Calcimycin|D03.633.100.221.173|\n|   A-23187|D03.633.100.221.173|\n|   Temefos|D02.705.400.625.800|\n|   Temefos|D02.705.539.345.800|\n|   Temefos|D02.886.300.692.800|\n+----------+-------------------+\nonly showing top 5 rows\n\n"
            ]
          }
        }
      ],
      "execution_count": null
    },
    {
      "cell_type": "code",
      "source": [
        "meshrdd = sc.textFile('/FileStore/tables/mesh.csv')\\\n",
        ".map(lambda x: x.split(','))\\\n",
        ".map(lambda x:(x[0],x[1].split('.')[0]))\n",
        "meshrdd.take(4)\n",
        "condition_hierachy_rdd = condition_rdd.join(meshrdd).map(lambda x: (x[1][1],1))\n",
        "most_frequent_roots = frequency(condition_hierachy_rdd,5)\n",
        "most_frequent_roots"
      ],
      "metadata": {
        "application/vnd.databricks.v1+cell": {
          "title": "",
          "showTitle": true,
          "inputWidgets": {},
          "nuid": "b183373f-815e-4fb1-9b69-702c2044ab0d"
        },
        "id": "hgQo7O3voHsv",
        "outputId": "5a3aba4a-344d-418d-948d-f9005b422b4c"
      },
      "outputs": [
        {
          "output_type": "display_data",
          "metadata": {
            "application/vnd.databricks.v1+output": {
              "datasetInfos": [],
              "data": "Out[84]: [('C04', 143994),\n ('C23', 136079),\n ('C01', 106674),\n ('C14', 94523),\n ('C10', 92310)]",
              "removedWidgets": [],
              "addedWidgets": {},
              "metadata": {},
              "type": "ansi",
              "arguments": {}
            }
          },
          "data": {
            "text/plain": [
              "Out[84]: [('C04', 143994),\n ('C23', 136079),\n ('C01', 106674),\n ('C14', 94523),\n ('C10', 92310)]"
            ]
          }
        }
      ],
      "execution_count": null
    },
    {
      "cell_type": "code",
      "source": [
        "meshDF = spark.read.options(delimiter=',', header ='true').csv('/FileStore/tables/mesh.csv')\n",
        "rootDF =  meshDF.withColumn('roots',col('tree').substr(1, 3))\n",
        "joinedDF = condDF.join(rootDF,condDF.conditions == rootDF.term,'inner')\n",
        "condition_rootDF = joinedDF.groupBy('roots').count()\n",
        "condition_rootDF.sort('count', ascending = False).limit(5).display()"
      ],
      "metadata": {
        "application/vnd.databricks.v1+cell": {
          "title": "",
          "showTitle": false,
          "inputWidgets": {},
          "nuid": "4db470d8-9fda-4825-b28b-fa7f005bc948"
        },
        "id": "Cfnf4kH5oHsv",
        "outputId": "b0cc24ed-8511-48e4-9d9f-e112e0ca622f"
      },
      "outputs": [
        {
          "output_type": "display_data",
          "metadata": {
            "application/vnd.databricks.v1+output": {
              "overflow": false,
              "datasetInfos": [],
              "data": [
                [
                  "C04",
                  143994
                ],
                [
                  "C23",
                  136079
                ],
                [
                  "C01",
                  106674
                ],
                [
                  "C14",
                  94523
                ],
                [
                  "C10",
                  92310
                ]
              ],
              "plotOptions": {
                "displayType": "table",
                "customPlotOptions": {},
                "pivotColumns": null,
                "pivotAggregation": null,
                "xColumns": null,
                "yColumns": null
              },
              "columnCustomDisplayInfos": {},
              "aggType": "",
              "isJsonSchema": true,
              "removedWidgets": [],
              "aggSchema": [],
              "schema": [
                {
                  "name": "roots",
                  "type": "\"string\"",
                  "metadata": "{}"
                },
                {
                  "name": "count",
                  "type": "\"long\"",
                  "metadata": "{}"
                }
              ],
              "aggError": "",
              "aggData": [],
              "addedWidgets": {},
              "metadata": {},
              "dbfsResultPath": null,
              "type": "table",
              "aggOverflow": false,
              "aggSeriesLimitReached": false,
              "arguments": {}
            }
          },
          "data": {
            "text/html": [
              "<style scoped>\n  .table-result-container {\n    max-height: 300px;\n    overflow: auto;\n  }\n  table, th, td {\n    border: 1px solid black;\n    border-collapse: collapse;\n  }\n  th, td {\n    padding: 5px;\n  }\n  th {\n    text-align: left;\n  }\n</style><div class='table-result-container'><table class='table-result'><thead style='background-color: white'><tr><th>roots</th><th>count</th></tr></thead><tbody><tr><td>C04</td><td>143994</td></tr><tr><td>C23</td><td>136079</td></tr><tr><td>C01</td><td>106674</td></tr><tr><td>C14</td><td>94523</td></tr><tr><td>C10</td><td>92310</td></tr></tbody></table></div>"
            ]
          }
        }
      ],
      "execution_count": null
    },
    {
      "cell_type": "code",
      "source": [
        "a,b = zip(*most_frequent_roots)\n",
        "fig = plt.figure()\n",
        "ax = fig.add_axes([0,0,1,1])\n",
        "ax.set_title('5 salas más frecuentes')\n",
        "ax.bar(a,b)\n",
        "\n",
        "most_frequent_roots"
      ],
      "metadata": {
        "application/vnd.databricks.v1+cell": {
          "title": "Question 4 - 5 most frequent Roots",
          "showTitle": false,
          "inputWidgets": {},
          "nuid": "1413184e-2681-452f-a80c-3cb570db920c"
        },
        "id": "isUSwhIdoHsv",
        "outputId": "c99539e7-8c96-4fa9-b00e-43556a4bd516"
      },
      "outputs": [
        {
          "output_type": "display_data",
          "metadata": {
            "application/vnd.databricks.v1+output": {
              "datasetInfos": [],
              "data": "Out[86]: [('C04', 143994),\n ('C23', 136079),\n ('C01', 106674),\n ('C14', 94523),\n ('C10', 92310)]",
              "removedWidgets": [],
              "addedWidgets": {},
              "metadata": {},
              "type": "ansi",
              "arguments": {}
            }
          },
          "data": {
            "text/plain": [
              "Out[86]: [('C04', 143994),\n ('C23', 136079),\n ('C01', 106674),\n ('C14', 94523),\n ('C10', 92310)]"
            ]
          }
        },
        {
          "output_type": "display_data",
          "metadata": {
            "application/vnd.databricks.v1+output": {
              "datasetInfos": [],
              "data": "data:image/png;base64,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\n",
              "removedWidgets": [],
              "addedWidgets": {},
              "metadata": {},
              "type": "image",
              "arguments": {}
            }
          },
          "data": {
            "image/png": "[encoded data removed]"
          }
        }
      ],
      "execution_count": null
    },
    {
      "cell_type": "markdown",
      "source": [
        "Los 10 laboratorios con más estudios"
      ],
      "metadata": {
        "application/vnd.databricks.v1+cell": {
          "title": "",
          "showTitle": false,
          "inputWidgets": {},
          "nuid": "6bf8ef90-3f98-430e-9905-869ee146d277"
        },
        "id": "dg1R3qtloHsw"
      }
    },
    {
      "cell_type": "code",
      "source": [
        "pharma_rdd = sc.textFile('/FileStore/tables/pharma.csv')\n",
        "pharma_parent_rdd = pharma_rdd.map(lambda x:(x.split(','))).map(lambda x:(x[1]).replace('\"', ''))\n",
        "sponsor_rdd = clinicalrdd.map(lambda x : x.split('|')).map(lambda x:x[1])\n",
        "sponsor_pharma_rdd = sponsor_rdd.subtract(pharma_parent_rdd)\n",
        "sponsor_pharma_pair_rdd = sponsor_pharma_rdd.map(lambda x: (x,1))\n",
        "most_common_sponsors = frequency(sponsor_pharma_pair_rdd,10)\n",
        "most_common_sponsors"
      ],
      "metadata": {
        "application/vnd.databricks.v1+cell": {
          "title": "",
          "showTitle": true,
          "inputWidgets": {},
          "nuid": "3c67f28c-489b-400b-a1f0-5f2396453ea4"
        },
        "id": "D_YiEU33oHsw",
        "outputId": "7f4e0e3a-0c67-4674-9e9f-f3f01d238046"
      },
      "outputs": [
        {
          "output_type": "display_data",
          "metadata": {
            "application/vnd.databricks.v1+output": {
              "datasetInfos": [],
              "data": "Out[87]: [('National Cancer Institute (NCI)', 3218),\n ('M.D. Anderson Cancer Center', 2414),\n ('Assistance Publique - Hôpitaux de Paris', 2369),\n ('Mayo Clinic', 2300),\n ('Merck Sharp & Dohme Corp.', 2243),\n ('Assiut University', 2154),\n ('Novartis Pharmaceuticals', 2088),\n ('Massachusetts General Hospital', 1971),\n ('Cairo University', 1928),\n ('Hoffmann-La Roche', 1828)]",
              "removedWidgets": [],
              "addedWidgets": {},
              "metadata": {},
              "type": "ansi",
              "arguments": {}
            }
          },
          "data": {
            "text/plain": [
              "Out[87]: [('National Cancer Institute (NCI)', 3218),\n ('M.D. Anderson Cancer Center', 2414),\n ('Assistance Publique - Hôpitaux de Paris', 2369),\n ('Mayo Clinic', 2300),\n ('Merck Sharp & Dohme Corp.', 2243),\n ('Assiut University', 2154),\n ('Novartis Pharmaceuticals', 2088),\n ('Massachusetts General Hospital', 1971),\n ('Cairo University', 1928),\n ('Hoffmann-La Roche', 1828)]"
            ]
          }
        }
      ],
      "execution_count": null
    },
    {
      "cell_type": "code",
      "source": [
        "pharmaDF = spark.read.options(delimiter=',', header ='true').csv('/FileStore/tables/pharma.csv')\n",
        "parentcoy_DF = pharmaDF.select('Parent_Company')\n",
        "sponsordf = clinicalDf.select('Sponsor')\n",
        "sponsor_pharmadf = sponsordf.join(parentcoy_DF,sponsordf.Sponsor == parentcoy_DF.Parent_Company, 'leftanti') \n",
        "nopharma_sponsorDF = sponsor_pharmadf.groupBy('Sponsor').count()\n",
        "nopharma_sponsorDF.sort('count', ascending = False).limit(10).display()"
      ],
      "metadata": {
        "application/vnd.databricks.v1+cell": {
          "title": "",
          "showTitle": false,
          "inputWidgets": {},
          "nuid": "00c17f31-2704-41d6-bb70-1fc0e306079d"
        },
        "id": "MWwv9qBQoHsw",
        "outputId": "2eed8b99-c4ea-44bb-8b80-fcf7159707ae"
      },
      "outputs": [
        {
          "output_type": "display_data",
          "metadata": {
            "application/vnd.databricks.v1+output": {
              "overflow": false,
              "datasetInfos": [],
              "data": [
                [
                  "National Cancer Institute (NCI)",
                  3218
                ],
                [
                  "M.D. Anderson Cancer Center",
                  2414
                ],
                [
                  "Assistance Publique - Hôpitaux de Paris",
                  2369
                ],
                [
                  "Mayo Clinic",
                  2300
                ],
                [
                  "Merck Sharp & Dohme Corp.",
                  2243
                ],
                [
                  "Assiut University",
                  2154
                ],
                [
                  "Novartis Pharmaceuticals",
                  2088
                ],
                [
                  "Massachusetts General Hospital",
                  1971
                ],
                [
                  "Cairo University",
                  1928
                ],
                [
                  "Hoffmann-La Roche",
                  1828
                ]
              ],
              "plotOptions": {
                "displayType": "table",
                "customPlotOptions": {},
                "pivotColumns": null,
                "pivotAggregation": null,
                "xColumns": null,
                "yColumns": null
              },
              "columnCustomDisplayInfos": {},
              "aggType": "",
              "isJsonSchema": true,
              "removedWidgets": [],
              "aggSchema": [],
              "schema": [
                {
                  "name": "Sponsor",
                  "type": "\"string\"",
                  "metadata": "{}"
                },
                {
                  "name": "count",
                  "type": "\"long\"",
                  "metadata": "{}"
                }
              ],
              "aggError": "",
              "aggData": [],
              "addedWidgets": {},
              "metadata": {},
              "dbfsResultPath": null,
              "type": "table",
              "aggOverflow": false,
              "aggSeriesLimitReached": false,
              "arguments": {}
            }
          },
          "data": {
            "text/html": [
              "<style scoped>\n  .table-result-container {\n    max-height: 300px;\n    overflow: auto;\n  }\n  table, th, td {\n    border: 1px solid black;\n    border-collapse: collapse;\n  }\n  th, td {\n    padding: 5px;\n  }\n  th {\n    text-align: left;\n  }\n</style><div class='table-result-container'><table class='table-result'><thead style='background-color: white'><tr><th>Sponsor</th><th>count</th></tr></thead><tbody><tr><td>National Cancer Institute (NCI)</td><td>3218</td></tr><tr><td>M.D. Anderson Cancer Center</td><td>2414</td></tr><tr><td>Assistance Publique - Hôpitaux de Paris</td><td>2369</td></tr><tr><td>Mayo Clinic</td><td>2300</td></tr><tr><td>Merck Sharp & Dohme Corp.</td><td>2243</td></tr><tr><td>Assiut University</td><td>2154</td></tr><tr><td>Novartis Pharmaceuticals</td><td>2088</td></tr><tr><td>Massachusetts General Hospital</td><td>1971</td></tr><tr><td>Cairo University</td><td>1928</td></tr><tr><td>Hoffmann-La Roche</td><td>1828</td></tr></tbody></table></div>"
            ]
          }
        }
      ],
      "execution_count": null
    },
    {
      "cell_type": "code",
      "source": [
        "a,b = zip(*most_common_sponsors)\n",
        "fig = plt.figure()\n",
        "ax = fig.add_axes([0,0,4.5,1])\n",
        "ax.set_title('10 laboratorios con más estudios')\n",
        "ax.bar(a,b)\n",
        "\n",
        "most_common_sponsors"
      ],
      "metadata": {
        "application/vnd.databricks.v1+cell": {
          "title": "Question 5 - 10 most common Sponsors (excluding pharmaceutical companies)",
          "showTitle": false,
          "inputWidgets": {},
          "nuid": "8dc3d958-081c-4a2e-b5c8-3a7d4dd937a9"
        },
        "id": "hb5DiVGzoHsw",
        "outputId": "f561439f-bfae-4117-8efb-dabf3290428f"
      },
      "outputs": [
        {
          "output_type": "display_data",
          "metadata": {
            "application/vnd.databricks.v1+output": {
              "datasetInfos": [],
              "data": "Out[89]: [('National Cancer Institute (NCI)', 3218),\n ('M.D. Anderson Cancer Center', 2414),\n ('Assistance Publique - Hôpitaux de Paris', 2369),\n ('Mayo Clinic', 2300),\n ('Merck Sharp & Dohme Corp.', 2243),\n ('Assiut University', 2154),\n ('Novartis Pharmaceuticals', 2088),\n ('Massachusetts General Hospital', 1971),\n ('Cairo University', 1928),\n ('Hoffmann-La Roche', 1828)]",
              "removedWidgets": [],
              "addedWidgets": {},
              "metadata": {},
              "type": "ansi",
              "arguments": {}
            }
          },
          "data": {
            "text/plain": [
              "Out[89]: [('National Cancer Institute (NCI)', 3218),\n ('M.D. Anderson Cancer Center', 2414),\n ('Assistance Publique - Hôpitaux de Paris', 2369),\n ('Mayo Clinic', 2300),\n ('Merck Sharp & Dohme Corp.', 2243),\n ('Assiut University', 2154),\n ('Novartis Pharmaceuticals', 2088),\n ('Massachusetts General Hospital', 1971),\n ('Cairo University', 1928),\n ('Hoffmann-La Roche', 1828)]"
            ]
          }
        },
        {
          "output_type": "display_data",
          "metadata": {
            "application/vnd.databricks.v1+output": {
              "datasetInfos": [],
              "data": "data:image/png;base64,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\n",
              "removedWidgets": [],
              "addedWidgets": {},
              "metadata": {},
              "type": "image",
              "arguments": {}
            }
          },
          "data": {
            "image/png": "[encoded data removed]"
          }
        }
      ],
      "execution_count": null
    },
    {
      "cell_type": "markdown",
      "source": [
        "Número de estudios completados completados por cada mes"
      ],
      "metadata": {
        "application/vnd.databricks.v1+cell": {
          "title": "",
          "showTitle": false,
          "inputWidgets": {},
          "nuid": "915ed324-7627-46f6-8822-dcc5dd5d38dc"
        },
        "id": "RUA7ilc_oHsw"
      }
    },
    {
      "cell_type": "code",
      "source": [
        "completedstudy_rdd = clinicalrdd.map(lambda x : x.split('|'))\\\n",
        ".map(lambda x:[x[2],x[4]]).filter(lambda x: 'Completed' in x )\\\n",
        ".filter(lambda x: '2021' in x[1] )\n",
        "completedstudy_pair_rdd = completedstudy_rdd.map(lambda x: (x[1].split(' ')[0]))\\\n",
        ".map(lambda x: (x,1)).reduceByKey(lambda x,y : x+y)\n",
        "completedstudy_pair_rdd.take(5)\n",
        "import calendar\n",
        "month = {x:y for y,x in enumerate(calendar.month_abbr[1:],1)}\n",
        "monthly_completed_study = completedstudy_pair_rdd.sortBy(keyfunc=lambda x: month.get(x[0])).collect()\n",
        "monthly_completed_study\n"
      ],
      "metadata": {
        "application/vnd.databricks.v1+cell": {
          "title": "",
          "showTitle": true,
          "inputWidgets": {},
          "nuid": "7c540bb8-4e50-4af3-8525-7098dd1c263c"
        },
        "id": "oDCD5YWQoHsw",
        "outputId": "4430e722-96ca-492c-8191-0e10622e2b75"
      },
      "outputs": [
        {
          "output_type": "display_data",
          "metadata": {
            "application/vnd.databricks.v1+output": {
              "datasetInfos": [],
              "data": "Out[90]: [('Jan', 1131),\n ('Feb', 934),\n ('Mar', 1227),\n ('Apr', 967),\n ('May', 984),\n ('Jun', 1094),\n ('Jul', 819),\n ('Aug', 700),\n ('Sep', 528),\n ('Oct', 187)]",
              "removedWidgets": [],
              "addedWidgets": {},
              "metadata": {},
              "type": "ansi",
              "arguments": {}
            }
          },
          "data": {
            "text/plain": [
              "Out[90]: [('Jan', 1131),\n ('Feb', 934),\n ('Mar', 1227),\n ('Apr', 967),\n ('May', 984),\n ('Jun', 1094),\n ('Jul', 819),\n ('Aug', 700),\n ('Sep', 528),\n ('Oct', 187)]"
            ]
          }
        }
      ],
      "execution_count": null
    },
    {
      "cell_type": "code",
      "source": [
        "completeddf = clinicalDf.select('Status','Completion')\n",
        "completeddf_status = completeddf.filter(completeddf.Status=='Completed')\n",
        "completeddf_2021 =completeddf_status.filter(completeddf.Completion.contains('2021'))\n",
        "completeddf_month = completeddf_2021.select('completion').withColumn('month', col('completion').substr(1, 3))\n",
        "completeddf_sorted = completeddf_month.groupBy('month').count()\n",
        "completeddf_sorted.sort(unix_timestamp(col('month'),'MMM')).display()"
      ],
      "metadata": {
        "application/vnd.databricks.v1+cell": {
          "title": "Question 6 - Number of completed studies each month of 2021",
          "showTitle": false,
          "inputWidgets": {},
          "nuid": "a2f5d05f-8b20-4cf9-adbe-f665abcbfd4f"
        },
        "id": "yVeniy3GoHsx",
        "outputId": "9a2c2633-66b0-4ae5-918e-82799065e43c"
      },
      "outputs": [
        {
          "output_type": "display_data",
          "metadata": {
            "application/vnd.databricks.v1+output": {
              "overflow": false,
              "datasetInfos": [],
              "data": [
                [
                  "Jan",
                  1131
                ],
                [
                  "Feb",
                  934
                ],
                [
                  "Mar",
                  1227
                ],
                [
                  "Apr",
                  967
                ],
                [
                  "May",
                  984
                ],
                [
                  "Jun",
                  1094
                ],
                [
                  "Jul",
                  819
                ],
                [
                  "Aug",
                  700
                ],
                [
                  "Sep",
                  528
                ],
                [
                  "Oct",
                  187
                ]
              ],
              "plotOptions": {
                "displayType": "table",
                "customPlotOptions": {},
                "pivotColumns": null,
                "pivotAggregation": null,
                "xColumns": null,
                "yColumns": null
              },
              "columnCustomDisplayInfos": {},
              "aggType": "",
              "isJsonSchema": true,
              "removedWidgets": [],
              "aggSchema": [],
              "schema": [
                {
                  "name": "month",
                  "type": "\"string\"",
                  "metadata": "{}"
                },
                {
                  "name": "count",
                  "type": "\"long\"",
                  "metadata": "{}"
                }
              ],
              "aggError": "",
              "aggData": [],
              "addedWidgets": {},
              "metadata": {},
              "dbfsResultPath": null,
              "type": "table",
              "aggOverflow": false,
              "aggSeriesLimitReached": false,
              "arguments": {}
            }
          },
          "data": {
            "text/html": [
              "<style scoped>\n  .table-result-container {\n    max-height: 300px;\n    overflow: auto;\n  }\n  table, th, td {\n    border: 1px solid black;\n    border-collapse: collapse;\n  }\n  th, td {\n    padding: 5px;\n  }\n  th {\n    text-align: left;\n  }\n</style><div class='table-result-container'><table class='table-result'><thead style='background-color: white'><tr><th>month</th><th>count</th></tr></thead><tbody><tr><td>Jan</td><td>1131</td></tr><tr><td>Feb</td><td>934</td></tr><tr><td>Mar</td><td>1227</td></tr><tr><td>Apr</td><td>967</td></tr><tr><td>May</td><td>984</td></tr><tr><td>Jun</td><td>1094</td></tr><tr><td>Jul</td><td>819</td></tr><tr><td>Aug</td><td>700</td></tr><tr><td>Sep</td><td>528</td></tr><tr><td>Oct</td><td>187</td></tr></tbody></table></div>"
            ]
          }
        }
      ],
      "execution_count": null
    },
    {
      "cell_type": "code",
      "source": [
        "x,y = zip(*monthly_completed_study)\n",
        "plt.plot(x,y)\n",
        "plt.title(' número de estudios en 2021')\n",
        "plt.show()\n",
        "monthly_completed_study"
      ],
      "metadata": {
        "application/vnd.databricks.v1+cell": {
          "title": " Question 6 - Number of completed studies each month of 2021",
          "showTitle": false,
          "inputWidgets": {},
          "nuid": "58967ec9-b202-47ce-9bca-c9bbcaf30153"
        },
        "id": "euRvBqbFoHsx",
        "outputId": "eb842e50-9b88-47a9-e48a-af77d2b39645"
      },
      "outputs": [
        {
          "output_type": "display_data",
          "metadata": {
            "application/vnd.databricks.v1+output": {
              "datasetInfos": [],
              "data": "data:image/png;base64,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\n",
              "removedWidgets": [],
              "addedWidgets": {},
              "metadata": {},
              "type": "image",
              "arguments": {}
            }
          },
          "data": {
            "image/png": "[encoded data removed]"
          }
        },
        {
          "output_type": "display_data",
          "metadata": {
            "application/vnd.databricks.v1+output": {
              "datasetInfos": [],
              "data": "Out[92]: [('Jan', 1131),\n ('Feb', 934),\n ('Mar', 1227),\n ('Apr', 967),\n ('May', 984),\n ('Jun', 1094),\n ('Jul', 819),\n ('Aug', 700),\n ('Sep', 528),\n ('Oct', 187)]",
              "removedWidgets": [],
              "addedWidgets": {},
              "metadata": {},
              "type": "ansi",
              "arguments": {}
            }
          },
          "data": {
            "text/plain": [
              "Out[92]: [('Jan', 1131),\n ('Feb', 934),\n ('Mar', 1227),\n ('Apr', 967),\n ('May', 984),\n ('Jun', 1094),\n ('Jul', 819),\n ('Aug', 700),\n ('Sep', 528),\n ('Oct', 187)]"
            ]
          }
        }
      ],
      "execution_count": null
    },
    {
      "cell_type": "markdown",
      "source": [
        "# ***Conclusiones***\n",
        "\n",
        "\n",
        "1.   En nuestra base de datos se observó una tendencia que las enfermedades que tenían mayor cantidad de estudios autorizados eran el cáncer y la diabetes, con una tendencia mayor a los cáncer de piel y mama. A pesar de que las enfermedades respiratorias son de las que más muertes trae en el mundo, en una época de pandemia estos estudios se vieron reducidos principalmente por las cuarentenas y el distanciamiento social que evitó tanto el aumento del covid-19 como de otras enfermedades respiratorias.\n",
        "2.   En el caso de la tecnología RDD y dataframe, se observó que cuando se trataban de operaciones simples ambas tecnologías tenían un tiempo similar de ejecución, pero cuando las operaciones de búsqueda se hacían más complejas el tiempo de la tecnología RDD aumentaba considerablemente con respecto a los dataframe.\n",
        " %md"
      ],
      "metadata": {
        "application/vnd.databricks.v1+cell": {
          "title": "",
          "showTitle": false,
          "inputWidgets": {},
          "nuid": "cbd29924-53cc-4430-adff-39db50ebe803"
        },
        "id": "kG6T0mBmoHsx"
      }
    }
  ],
  "metadata": {
    "application/vnd.databricks.v1+notebook": {
      "notebookName": "proyecto_data_science",
      "dashboards": [],
      "notebookMetadata": {
        "pythonIndentUnit": 4
      },
      "language": "python",
      "widgets": {},
      "notebookOrigID": 1075523520912999
    },
    "colab": {
      "provenance": [],
      "include_colab_link": true
    }
  },
  "nbformat": 4,
  "nbformat_minor": 0
}